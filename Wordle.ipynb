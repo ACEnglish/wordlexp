{
 "cells": [
  {
   "cell_type": "markdown",
   "id": "89175fbb",
   "metadata": {},
   "source": [
    "# Wordle Explorer\n",
    "\n",
    "This program helps you explore the 'word space' of Wordle.\n",
    "If you know the answer, this lets you explore how many possibilities there were for each of your guess.\n",
    "If you don't know the answer, you can input information about your letters and reduce the search space to get inspiration.\n",
    "\n",
    "Commands:\n",
    "- a five letter word you've guessed\n",
    "- $ - end guessing\n",
    "- \\% - see the frequency of the letters remaining in the search space\n",
    "- \\# - see a random sampling of words remaining in the search space (#10 returns 10, default 5)\n",
    "- _ - reset the search space\n",
    "- _* - reset the search space and choose a new, random answer\n",
    "- . - input information about the puzzle e.g. `.2=R`\n",
    "\n",
    "The format of the input information command is `<pos><op><letter>`. Pos is the position and letter is the letter (e.g. `0 T` is T and the 1st position.\n",
    "\n",
    "Available <op>erations are:\n",
    "- = - The letter is placed in the position\n",
    "- ? - This letter is not in this position, but is somewhere in the answer\n",
    "- ! - This letter is not in this position, or anywhere in the answer"
   ]
  },
  {
   "cell_type": "code",
   "execution_count": 19,
   "id": "48a0ae6d",
   "metadata": {},
   "outputs": [],
   "source": [
    "import wordlexp as we\n",
    "import importlib"
   ]
  },
  {
   "cell_type": "code",
   "execution_count": 173,
   "id": "15c23b8b",
   "metadata": {
    "scrolled": false
   },
   "outputs": [
    {
     "name": "stdout",
     "output_type": "stream",
     "text": [
      "guess: tails\n",
      "\u001b[1m\u001b[93mT\u001b[0m\u001b[1m\u001b[93mA\u001b[0mils\n",
      "182 / 12972 remaining 1.4% - 44\n",
      "guess: %\n"
     ]
    },
    {
     "data": {
      "text/html": [
       "<div>\n",
       "<style scoped>\n",
       "    .dataframe tbody tr th:only-of-type {\n",
       "        vertical-align: middle;\n",
       "    }\n",
       "\n",
       "    .dataframe tbody tr th {\n",
       "        vertical-align: top;\n",
       "    }\n",
       "\n",
       "    .dataframe thead th {\n",
       "        text-align: right;\n",
       "    }\n",
       "</style>\n",
       "<table border=\"1\" class=\"dataframe\">\n",
       "  <thead>\n",
       "    <tr style=\"text-align: right;\">\n",
       "      <th>value</th>\n",
       "      <th>E</th>\n",
       "      <th>R</th>\n",
       "      <th>O</th>\n",
       "      <th>N</th>\n",
       "      <th>U</th>\n",
       "    </tr>\n",
       "  </thead>\n",
       "  <tbody>\n",
       "    <tr>\n",
       "      <th>count</th>\n",
       "      <td>81.00</td>\n",
       "      <td>75.00</td>\n",
       "      <td>54.0</td>\n",
       "      <td>38.00</td>\n",
       "      <td>31.00</td>\n",
       "    </tr>\n",
       "    <tr>\n",
       "      <th>freq</th>\n",
       "      <td>0.45</td>\n",
       "      <td>0.41</td>\n",
       "      <td>0.3</td>\n",
       "      <td>0.21</td>\n",
       "      <td>0.17</td>\n",
       "    </tr>\n",
       "  </tbody>\n",
       "</table>\n",
       "</div>"
      ],
      "text/plain": [
       "value      E      R     O      N      U\n",
       "count  81.00  75.00  54.0  38.00  31.00\n",
       "freq    0.45   0.41   0.3   0.21   0.17"
      ]
     },
     "metadata": {},
     "output_type": "display_data"
    },
    {
     "data": {
      "image/png": "[encoded data removed]",
      "text/plain": [
       "<Figure size 720x180 with 1 Axes>"
      ]
     },
     "metadata": {
      "needs_background": "light"
     },
     "output_type": "display_data"
    },
    {
     "name": "stdout",
     "output_type": "stream",
     "text": [
      "guess: breat\n",
      "Invalid guess\n",
      "guess: ^\n"
     ]
    },
    {
     "data": {
      "text/html": [
       "<div>\n",
       "<style scoped>\n",
       "    .dataframe tbody tr th:only-of-type {\n",
       "        vertical-align: middle;\n",
       "    }\n",
       "\n",
       "    .dataframe tbody tr th {\n",
       "        vertical-align: top;\n",
       "    }\n",
       "\n",
       "    .dataframe thead th {\n",
       "        text-align: right;\n",
       "    }\n",
       "</style>\n",
       "<table border=\"1\" class=\"dataframe\">\n",
       "  <thead>\n",
       "    <tr style=\"text-align: right;\">\n",
       "      <th></th>\n",
       "      <th>word</th>\n",
       "      <th>valid</th>\n",
       "      <th>L-0</th>\n",
       "      <th>L-1</th>\n",
       "      <th>L-2</th>\n",
       "      <th>L-3</th>\n",
       "      <th>L-4</th>\n",
       "      <th>unique</th>\n",
       "    </tr>\n",
       "  </thead>\n",
       "  <tbody>\n",
       "    <tr>\n",
       "      <th>2060</th>\n",
       "      <td>GRAFT</td>\n",
       "      <td>True</td>\n",
       "      <td>G</td>\n",
       "      <td>R</td>\n",
       "      <td>A</td>\n",
       "      <td>F</td>\n",
       "      <td>T</td>\n",
       "      <td>5</td>\n",
       "    </tr>\n",
       "    <tr>\n",
       "      <th>990</th>\n",
       "      <td>ADOPT</td>\n",
       "      <td>True</td>\n",
       "      <td>A</td>\n",
       "      <td>D</td>\n",
       "      <td>O</td>\n",
       "      <td>P</td>\n",
       "      <td>T</td>\n",
       "      <td>5</td>\n",
       "    </tr>\n",
       "    <tr>\n",
       "      <th>1108</th>\n",
       "      <td>ENACT</td>\n",
       "      <td>True</td>\n",
       "      <td>E</td>\n",
       "      <td>N</td>\n",
       "      <td>A</td>\n",
       "      <td>C</td>\n",
       "      <td>T</td>\n",
       "      <td>5</td>\n",
       "    </tr>\n",
       "    <tr>\n",
       "      <th>656</th>\n",
       "      <td>HEART</td>\n",
       "      <td>True</td>\n",
       "      <td>H</td>\n",
       "      <td>E</td>\n",
       "      <td>A</td>\n",
       "      <td>R</td>\n",
       "      <td>T</td>\n",
       "      <td>5</td>\n",
       "    </tr>\n",
       "    <tr>\n",
       "      <th>2286</th>\n",
       "      <td>ADAPT</td>\n",
       "      <td>True</td>\n",
       "      <td>A</td>\n",
       "      <td>D</td>\n",
       "      <td>A</td>\n",
       "      <td>P</td>\n",
       "      <td>T</td>\n",
       "      <td>4</td>\n",
       "    </tr>\n",
       "  </tbody>\n",
       "</table>\n",
       "</div>"
      ],
      "text/plain": [
       "       word  valid L-0 L-1 L-2 L-3 L-4  unique\n",
       "2060  GRAFT   True   G   R   A   F   T       5\n",
       "990   ADOPT   True   A   D   O   P   T       5\n",
       "1108  ENACT   True   E   N   A   C   T       5\n",
       "656   HEART   True   H   E   A   R   T       5\n",
       "2286  ADAPT   True   A   D   A   P   T       4"
      ]
     },
     "metadata": {},
     "output_type": "display_data"
    },
    {
     "name": "stdout",
     "output_type": "stream",
     "text": [
      "space 182 ( 44 )\n",
      "guess: adopt\n",
      "\u001b[1m\u001b[93mT\u001b[0m\u001b[1m\u001b[93mA\u001b[0mils\n",
      "\u001b[1m\u001b[93mA\u001b[0mdop\u001b[1m\u001b[92mT\u001b[0m\n",
      "30 / 12972 remaining 0.2% - 15\n",
      "guess: %\n"
     ]
    },
    {
     "data": {
      "text/html": [
       "<div>\n",
       "<style scoped>\n",
       "    .dataframe tbody tr th:only-of-type {\n",
       "        vertical-align: middle;\n",
       "    }\n",
       "\n",
       "    .dataframe tbody tr th {\n",
       "        vertical-align: top;\n",
       "    }\n",
       "\n",
       "    .dataframe thead th {\n",
       "        text-align: right;\n",
       "    }\n",
       "</style>\n",
       "<table border=\"1\" class=\"dataframe\">\n",
       "  <thead>\n",
       "    <tr style=\"text-align: right;\">\n",
       "      <th>value</th>\n",
       "      <th>R</th>\n",
       "      <th>E</th>\n",
       "      <th>C</th>\n",
       "      <th>H</th>\n",
       "      <th>U</th>\n",
       "    </tr>\n",
       "  </thead>\n",
       "  <tbody>\n",
       "    <tr>\n",
       "      <th>count</th>\n",
       "      <td>17.00</td>\n",
       "      <td>12.0</td>\n",
       "      <td>11.00</td>\n",
       "      <td>8.00</td>\n",
       "      <td>8.00</td>\n",
       "    </tr>\n",
       "    <tr>\n",
       "      <th>freq</th>\n",
       "      <td>0.57</td>\n",
       "      <td>0.4</td>\n",
       "      <td>0.37</td>\n",
       "      <td>0.27</td>\n",
       "      <td>0.27</td>\n",
       "    </tr>\n",
       "  </tbody>\n",
       "</table>\n",
       "</div>"
      ],
      "text/plain": [
       "value      R     E      C     H     U\n",
       "count  17.00  12.0  11.00  8.00  8.00\n",
       "freq    0.57   0.4   0.37  0.27  0.27"
      ]
     },
     "metadata": {},
     "output_type": "display_data"
    },
    {
     "data": {
      "image/png": "[encoded data removed]",
      "text/plain": [
       "<Figure size 720x180 with 1 Axes>"
      ]
     },
     "metadata": {
      "needs_background": "light"
     },
     "output_type": "display_data"
    },
    {
     "name": "stdout",
     "output_type": "stream",
     "text": [
      "guess: cranh\n",
      "Invalid guess\n",
      "guess: ^\n"
     ]
    },
    {
     "data": {
      "text/html": [
       "<div>\n",
       "<style scoped>\n",
       "    .dataframe tbody tr th:only-of-type {\n",
       "        vertical-align: middle;\n",
       "    }\n",
       "\n",
       "    .dataframe tbody tr th {\n",
       "        vertical-align: top;\n",
       "    }\n",
       "\n",
       "    .dataframe thead th {\n",
       "        text-align: right;\n",
       "    }\n",
       "</style>\n",
       "<table border=\"1\" class=\"dataframe\">\n",
       "  <thead>\n",
       "    <tr style=\"text-align: right;\">\n",
       "      <th></th>\n",
       "      <th>word</th>\n",
       "      <th>valid</th>\n",
       "      <th>L-0</th>\n",
       "      <th>L-1</th>\n",
       "      <th>L-2</th>\n",
       "      <th>L-3</th>\n",
       "      <th>L-4</th>\n",
       "      <th>unique</th>\n",
       "    </tr>\n",
       "  </thead>\n",
       "  <tbody>\n",
       "    <tr>\n",
       "      <th>1192</th>\n",
       "      <td>BEGAT</td>\n",
       "      <td>True</td>\n",
       "      <td>B</td>\n",
       "      <td>E</td>\n",
       "      <td>G</td>\n",
       "      <td>A</td>\n",
       "      <td>T</td>\n",
       "      <td>5</td>\n",
       "    </tr>\n",
       "    <tr>\n",
       "      <th>1809</th>\n",
       "      <td>CHART</td>\n",
       "      <td>True</td>\n",
       "      <td>C</td>\n",
       "      <td>H</td>\n",
       "      <td>A</td>\n",
       "      <td>R</td>\n",
       "      <td>T</td>\n",
       "      <td>5</td>\n",
       "    </tr>\n",
       "    <tr>\n",
       "      <th>136</th>\n",
       "      <td>GREAT</td>\n",
       "      <td>True</td>\n",
       "      <td>G</td>\n",
       "      <td>R</td>\n",
       "      <td>E</td>\n",
       "      <td>A</td>\n",
       "      <td>T</td>\n",
       "      <td>5</td>\n",
       "    </tr>\n",
       "    <tr>\n",
       "      <th>1108</th>\n",
       "      <td>ENACT</td>\n",
       "      <td>True</td>\n",
       "      <td>E</td>\n",
       "      <td>N</td>\n",
       "      <td>A</td>\n",
       "      <td>C</td>\n",
       "      <td>T</td>\n",
       "      <td>5</td>\n",
       "    </tr>\n",
       "    <tr>\n",
       "      <th>1954</th>\n",
       "      <td>WHEAT</td>\n",
       "      <td>True</td>\n",
       "      <td>W</td>\n",
       "      <td>H</td>\n",
       "      <td>E</td>\n",
       "      <td>A</td>\n",
       "      <td>T</td>\n",
       "      <td>5</td>\n",
       "    </tr>\n",
       "  </tbody>\n",
       "</table>\n",
       "</div>"
      ],
      "text/plain": [
       "       word  valid L-0 L-1 L-2 L-3 L-4  unique\n",
       "1192  BEGAT   True   B   E   G   A   T       5\n",
       "1809  CHART   True   C   H   A   R   T       5\n",
       "136   GREAT   True   G   R   E   A   T       5\n",
       "1108  ENACT   True   E   N   A   C   T       5\n",
       "1954  WHEAT   True   W   H   E   A   T       5"
      ]
     },
     "metadata": {},
     "output_type": "display_data"
    },
    {
     "name": "stdout",
     "output_type": "stream",
     "text": [
      "space 30 ( 15 )\n",
      "guess: great\n",
      "\u001b[1m\u001b[93mT\u001b[0m\u001b[1m\u001b[93mA\u001b[0mils\n",
      "\u001b[1m\u001b[93mA\u001b[0mdop\u001b[1m\u001b[92mT\u001b[0m\n",
      "gre\u001b[1m\u001b[93mA\u001b[0m\u001b[1m\u001b[92mT\u001b[0m\n",
      "3 / 12972 remaining 0.0% - 1\n",
      "guess: %\n"
     ]
    },
    {
     "data": {
      "text/html": [
       "<div>\n",
       "<style scoped>\n",
       "    .dataframe tbody tr th:only-of-type {\n",
       "        vertical-align: middle;\n",
       "    }\n",
       "\n",
       "    .dataframe tbody tr th {\n",
       "        vertical-align: top;\n",
       "    }\n",
       "\n",
       "    .dataframe thead th {\n",
       "        text-align: right;\n",
       "    }\n",
       "</style>\n",
       "<table border=\"1\" class=\"dataframe\">\n",
       "  <thead>\n",
       "    <tr style=\"text-align: right;\">\n",
       "      <th>value</th>\n",
       "      <th>C</th>\n",
       "      <th>H</th>\n",
       "      <th>N</th>\n",
       "      <th>F</th>\n",
       "      <th>Q</th>\n",
       "    </tr>\n",
       "  </thead>\n",
       "  <tbody>\n",
       "    <tr>\n",
       "      <th>count</th>\n",
       "      <td>2.00</td>\n",
       "      <td>2.00</td>\n",
       "      <td>2.00</td>\n",
       "      <td>1.00</td>\n",
       "      <td>1.00</td>\n",
       "    </tr>\n",
       "    <tr>\n",
       "      <th>freq</th>\n",
       "      <td>0.67</td>\n",
       "      <td>0.67</td>\n",
       "      <td>0.67</td>\n",
       "      <td>0.33</td>\n",
       "      <td>0.33</td>\n",
       "    </tr>\n",
       "  </tbody>\n",
       "</table>\n",
       "</div>"
      ],
      "text/plain": [
       "value     C     H     N     F     Q\n",
       "count  2.00  2.00  2.00  1.00  1.00\n",
       "freq   0.67  0.67  0.67  0.33  0.33"
      ]
     },
     "metadata": {},
     "output_type": "display_data"
    },
    {
     "data": {
      "image/png": "[encoded data removed]",
      "text/plain": [
       "<Figure size 720x180 with 1 Axes>"
      ]
     },
     "metadata": {
      "needs_background": "light"
     },
     "output_type": "display_data"
    },
    {
     "name": "stdout",
     "output_type": "stream",
     "text": [
      "guess: chant\n",
      "\u001b[1m\u001b[93mT\u001b[0m\u001b[1m\u001b[93mA\u001b[0mils\n",
      "\u001b[1m\u001b[93mA\u001b[0mdop\u001b[1m\u001b[92mT\u001b[0m\n",
      "gre\u001b[1m\u001b[93mA\u001b[0m\u001b[1m\u001b[92mT\u001b[0m\n",
      "\u001b[1m\u001b[92mC\u001b[0m\u001b[1m\u001b[92mH\u001b[0m\u001b[1m\u001b[92mA\u001b[0m\u001b[1m\u001b[92mN\u001b[0m\u001b[1m\u001b[92mT\u001b[0m\n",
      "1 / 12972 remaining 0.0% - 1\n",
      "Finished!\n"
     ]
    }
   ],
   "source": [
    "importlib.reload(we)\n",
    "we.play()"
   ]
  },
  {
   "cell_type": "code",
   "execution_count": 166,
   "id": "fe442f04",
   "metadata": {},
   "outputs": [
    {
     "name": "stderr",
     "output_type": "stream",
     "text": [
      "/Users/a233287/code/wordlexp/wordlexp.py:361: UserWarning: FixedFormatter should only be used together with FixedLocator\n",
      "  def test():\n"
     ]
    },
    {
     "data": {
      "image/png": "[encoded data removed]",
      "text/plain": [
       "<Figure size 432x288 with 1 Axes>"
      ]
     },
     "metadata": {
      "needs_background": "light"
     },
     "output_type": "display_data"
    },
    {
     "data": {
      "text/plain": [
       "guess\n",
       "1    230.0\n",
       "2     19.0\n",
       "3      3.0\n",
       "4      1.0\n",
       "5      1.0\n",
       "6      1.0\n",
       "Name: a_space, dtype: float64"
      ]
     },
     "metadata": {},
     "output_type": "display_data"
    },
    {
     "name": "stderr",
     "output_type": "stream",
     "text": [
      "/Users/a233287/code/wordlexp/wordlexp.py:370: UserWarning: FixedFormatter should only be used together with FixedLocator\n"
     ]
    },
    {
     "data": {
      "image/png": "[encoded data removed]",
      "text/plain": [
       "<Figure size 432x288 with 1 Axes>"
      ]
     },
     "metadata": {
      "needs_background": "light"
     },
     "output_type": "display_data"
    },
    {
     "data": {
      "text/plain": [
       "guess\n",
       "1    75.0\n",
       "2     6.0\n",
       "3     2.0\n",
       "4     1.0\n",
       "5     1.0\n",
       "6     1.0\n",
       "Name: v_space, dtype: float64"
      ]
     },
     "metadata": {},
     "output_type": "display_data"
    },
    {
     "data": {
      "image/png": "[encoded data removed]",
      "text/plain": [
       "<Figure size 432x288 with 1 Axes>"
      ]
     },
     "metadata": {
      "needs_background": "light"
     },
     "output_type": "display_data"
    },
    {
     "name": "stdout",
     "output_type": "stream",
     "text": [
      "loss: 209 9.03%\n",
      "speed: count    953.000000\n",
      "mean       4.222455\n",
      "std        1.025330\n",
      "min        2.000000\n",
      "25%        4.000000\n",
      "50%        4.000000\n",
      "75%        5.000000\n",
      "max        6.000000\n",
      "Name: guess, dtype: float64\n"
     ]
    },
    {
     "data": {
      "text/plain": [
       "{'speed': 4.222455403987408, 'loss': 9.028077753779698}"
      ]
     },
     "execution_count": 166,
     "metadata": {},
     "output_type": "execute_result"
    }
   ],
   "source": [
    "we.evaluate_first_word('tails', plot=True)"
   ]
  }
 ],
 "metadata": {
  "kernelspec": {
   "display_name": "Python 3 (ipykernel)",
   "language": "python",
   "name": "python3"
  },
  "language_info": {
   "codemirror_mode": {
    "name": "ipython",
    "version": 3
   },
   "file_extension": ".py",
   "mimetype": "text/x-python",
   "name": "python",
   "nbconvert_exporter": "python",
   "pygments_lexer": "ipython3",
   "version": "3.8.6"
  },
  "toc": {
   "base_numbering": 1,
   "nav_menu": {},
   "number_sections": true,
   "sideBar": true,
   "skip_h1_title": false,
   "title_cell": "Table of Contents",
   "title_sidebar": "Contents",
   "toc_cell": false,
   "toc_position": {},
   "toc_section_display": true,
   "toc_window_display": false
  }
 },
 "nbformat": 4,
 "nbformat_minor": 5
}
