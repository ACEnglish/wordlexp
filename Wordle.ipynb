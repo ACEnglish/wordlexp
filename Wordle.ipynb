{
 "cells": [
  {
   "cell_type": "markdown",
   "id": "89175fbb",
   "metadata": {},
   "source": [
    "# Wordle Explorer\n",
    "\n",
    "This program helps you explore the 'word space' of Wordle.\n",
    "If you know the answer, this lets you explore how many possibilities there were for each of your guess.\n",
    "If you don't know the answer, you can input information about your letters and reduce the search space to get inspiration.\n",
    "\n",
    "Commands:\n",
    "- a five letter word you've guessed\n",
    "- $ - end guessing\n",
    "- \\% - see the frequency of the letters remaining in the search space\n",
    "- \\# - see a random sampling of words remaining in the search space (#10 returns 10, default 5)\n",
    "- _ - reset the search space\n",
    "- _* - reset the search space and choose a new, random answer\n",
    "- . - input information about the puzzle e.g. `.2=R`\n",
    "\n",
    "The format of the input information command is `<pos><op><letter>`. Pos is the position and letter is the letter (e.g. `0 T` is T and the 1st position.\n",
    "\n",
    "Available <op>erations are:\n",
    "- = - The letter is placed in the position\n",
    "- ? - This letter is not in this position, but is somewhere in the answer\n",
    "- ! - This letter is not in this position, or anywhere in the answer"
   ]
  },
  {
   "cell_type": "code",
   "execution_count": 7,
   "id": "48a0ae6d",
   "metadata": {},
   "outputs": [],
   "source": [
    "import wordlexp as we\n",
    "import importlib"
   ]
  },
  {
   "cell_type": "code",
   "execution_count": 154,
   "id": "15c23b8b",
   "metadata": {
    "scrolled": false
   },
   "outputs": [
    {
     "name": "stdout",
     "output_type": "stream",
     "text": [
      "guess: plant\n",
      "pl\u001b[1m\u001b[93mA\u001b[0m\u001b[1m\u001b[93mN\u001b[0m\u001b[1m\u001b[93mT\u001b[0m\n",
      "91 / 12972 remaining 0.7% - 12\n",
      "guess: %\n"
     ]
    },
    {
     "data": {
      "text/html": [
       "<div>\n",
       "<style scoped>\n",
       "    .dataframe tbody tr th:only-of-type {\n",
       "        vertical-align: middle;\n",
       "    }\n",
       "\n",
       "    .dataframe tbody tr th {\n",
       "        vertical-align: top;\n",
       "    }\n",
       "\n",
       "    .dataframe thead th {\n",
       "        text-align: right;\n",
       "    }\n",
       "</style>\n",
       "<table border=\"1\" class=\"dataframe\">\n",
       "  <thead>\n",
       "    <tr style=\"text-align: right;\">\n",
       "      <th>value</th>\n",
       "      <th>S</th>\n",
       "      <th>O</th>\n",
       "      <th>I</th>\n",
       "      <th>E</th>\n",
       "      <th>Y</th>\n",
       "    </tr>\n",
       "  </thead>\n",
       "  <tbody>\n",
       "    <tr>\n",
       "      <th>count</th>\n",
       "      <td>30.00</td>\n",
       "      <td>17.00</td>\n",
       "      <td>17.00</td>\n",
       "      <td>16.00</td>\n",
       "      <td>15.00</td>\n",
       "    </tr>\n",
       "    <tr>\n",
       "      <th>freq</th>\n",
       "      <td>0.33</td>\n",
       "      <td>0.19</td>\n",
       "      <td>0.19</td>\n",
       "      <td>0.18</td>\n",
       "      <td>0.16</td>\n",
       "    </tr>\n",
       "  </tbody>\n",
       "</table>\n",
       "</div>"
      ],
      "text/plain": [
       "value      S      O      I      E      Y\n",
       "count  30.00  17.00  17.00  16.00  15.00\n",
       "freq    0.33   0.19   0.19   0.18   0.16"
      ]
     },
     "metadata": {},
     "output_type": "display_data"
    },
    {
     "data": {
      "image/png": "[encoded data removed]",
      "text/plain": [
       "<Figure size 720x180 with 1 Axes>"
      ]
     },
     "metadata": {
      "needs_background": "light"
     },
     "output_type": "display_data"
    },
    {
     "name": "stdout",
     "output_type": "stream",
     "text": [
      "guess: titan\n",
      "pl\u001b[1m\u001b[93mA\u001b[0m\u001b[1m\u001b[93mN\u001b[0m\u001b[1m\u001b[93mT\u001b[0m\n",
      "\u001b[1m\u001b[92mT\u001b[0mit\u001b[1m\u001b[93mA\u001b[0m\u001b[1m\u001b[93mN\u001b[0m\n",
      "13 / 12972 remaining 0.1% - 3\n",
      "guess: %\n"
     ]
    },
    {
     "data": {
      "text/html": [
       "<div>\n",
       "<style scoped>\n",
       "    .dataframe tbody tr th:only-of-type {\n",
       "        vertical-align: middle;\n",
       "    }\n",
       "\n",
       "    .dataframe tbody tr th {\n",
       "        vertical-align: top;\n",
       "    }\n",
       "\n",
       "    .dataframe thead th {\n",
       "        text-align: right;\n",
       "    }\n",
       "</style>\n",
       "<table border=\"1\" class=\"dataframe\">\n",
       "  <thead>\n",
       "    <tr style=\"text-align: right;\">\n",
       "      <th>value</th>\n",
       "      <th>G</th>\n",
       "      <th>K</th>\n",
       "      <th>O</th>\n",
       "      <th>S</th>\n",
       "      <th>Y</th>\n",
       "    </tr>\n",
       "  </thead>\n",
       "  <tbody>\n",
       "    <tr>\n",
       "      <th>count</th>\n",
       "      <td>5.00</td>\n",
       "      <td>4.00</td>\n",
       "      <td>4.00</td>\n",
       "      <td>4.00</td>\n",
       "      <td>4.00</td>\n",
       "    </tr>\n",
       "    <tr>\n",
       "      <th>freq</th>\n",
       "      <td>0.38</td>\n",
       "      <td>0.31</td>\n",
       "      <td>0.31</td>\n",
       "      <td>0.31</td>\n",
       "      <td>0.31</td>\n",
       "    </tr>\n",
       "  </tbody>\n",
       "</table>\n",
       "</div>"
      ],
      "text/plain": [
       "value     G     K     O     S     Y\n",
       "count  5.00  4.00  4.00  4.00  4.00\n",
       "freq   0.38  0.31  0.31  0.31  0.31"
      ]
     },
     "metadata": {},
     "output_type": "display_data"
    },
    {
     "data": {
      "image/png": "[encoded data removed]",
      "text/plain": [
       "<Figure size 720x180 with 1 Axes>"
      ]
     },
     "metadata": {
      "needs_background": "light"
     },
     "output_type": "display_data"
    },
    {
     "name": "stdout",
     "output_type": "stream",
     "text": [
      "guess: tangy\n",
      "pl\u001b[1m\u001b[93mA\u001b[0m\u001b[1m\u001b[93mN\u001b[0m\u001b[1m\u001b[93mT\u001b[0m\n",
      "\u001b[1m\u001b[92mT\u001b[0mit\u001b[1m\u001b[93mA\u001b[0m\u001b[1m\u001b[93mN\u001b[0m\n",
      "\u001b[1m\u001b[92mT\u001b[0m\u001b[1m\u001b[93mA\u001b[0m\u001b[1m\u001b[92mN\u001b[0m\u001b[1m\u001b[92mG\u001b[0my\n",
      "1 / 12972 remaining 0.0% - 1\n",
      "guess: #\n"
     ]
    },
    {
     "data": {
      "text/html": [
       "<div>\n",
       "<style scoped>\n",
       "    .dataframe tbody tr th:only-of-type {\n",
       "        vertical-align: middle;\n",
       "    }\n",
       "\n",
       "    .dataframe tbody tr th {\n",
       "        vertical-align: top;\n",
       "    }\n",
       "\n",
       "    .dataframe thead th {\n",
       "        text-align: right;\n",
       "    }\n",
       "</style>\n",
       "<table border=\"1\" class=\"dataframe\">\n",
       "  <thead>\n",
       "    <tr style=\"text-align: right;\">\n",
       "      <th></th>\n",
       "      <th>word</th>\n",
       "      <th>valid</th>\n",
       "      <th>L-0</th>\n",
       "      <th>L-1</th>\n",
       "      <th>L-2</th>\n",
       "      <th>L-3</th>\n",
       "      <th>L-4</th>\n",
       "      <th>unique</th>\n",
       "    </tr>\n",
       "  </thead>\n",
       "  <tbody>\n",
       "    <tr>\n",
       "      <th>1996</th>\n",
       "      <td>TONGA</td>\n",
       "      <td>True</td>\n",
       "      <td>T</td>\n",
       "      <td>O</td>\n",
       "      <td>N</td>\n",
       "      <td>G</td>\n",
       "      <td>A</td>\n",
       "      <td>5</td>\n",
       "    </tr>\n",
       "  </tbody>\n",
       "</table>\n",
       "</div>"
      ],
      "text/plain": [
       "       word  valid L-0 L-1 L-2 L-3 L-4  unique\n",
       "1996  TONGA   True   T   O   N   G   A       5"
      ]
     },
     "metadata": {},
     "output_type": "display_data"
    },
    {
     "name": "stdout",
     "output_type": "stream",
     "text": [
      "space 1 ( 1 )\n",
      "guess: tonga\n",
      "pl\u001b[1m\u001b[93mA\u001b[0m\u001b[1m\u001b[93mN\u001b[0m\u001b[1m\u001b[93mT\u001b[0m\n",
      "\u001b[1m\u001b[92mT\u001b[0mit\u001b[1m\u001b[93mA\u001b[0m\u001b[1m\u001b[93mN\u001b[0m\n",
      "\u001b[1m\u001b[92mT\u001b[0m\u001b[1m\u001b[93mA\u001b[0m\u001b[1m\u001b[92mN\u001b[0m\u001b[1m\u001b[92mG\u001b[0my\n",
      "\u001b[1m\u001b[92mT\u001b[0m\u001b[1m\u001b[92mO\u001b[0m\u001b[1m\u001b[92mN\u001b[0m\u001b[1m\u001b[92mG\u001b[0m\u001b[1m\u001b[92mA\u001b[0m\n",
      "1 / 12972 remaining 0.0% - 1\n",
      "Finished!\n"
     ]
    }
   ],
   "source": [
    "we.play()"
   ]
  },
  {
   "cell_type": "code",
   "execution_count": 155,
   "id": "fe442f04",
   "metadata": {},
   "outputs": [
    {
     "name": "stderr",
     "output_type": "stream",
     "text": [
      "/Users/a233287/code/wordlexp/wordlexp.py:340: UserWarning: FixedFormatter should only be used together with FixedLocator\n",
      "  p.set_yticklabels([\"{:,}\".format(int(_)) for _ in p.get_yticks()])\n"
     ]
    },
    {
     "data": {
      "image/png": "[encoded data removed]",
      "text/plain": [
       "<Figure size 432x288 with 1 Axes>"
      ]
     },
     "metadata": {
      "needs_background": "light"
     },
     "output_type": "display_data"
    },
    {
     "data": {
      "text/plain": [
       "guess\n",
       "1    414.0\n",
       "2     23.0\n",
       "3      3.0\n",
       "4      1.0\n",
       "5      1.0\n",
       "6      1.0\n",
       "Name: a_space, dtype: float64"
      ]
     },
     "metadata": {},
     "output_type": "display_data"
    },
    {
     "name": "stderr",
     "output_type": "stream",
     "text": [
      "/Users/a233287/code/wordlexp/wordlexp.py:349: UserWarning: FixedFormatter should only be used together with FixedLocator\n",
      "  p.set_yticklabels([\"{:,}\".format(int(_)) for _ in p.get_yticks()])\n"
     ]
    },
    {
     "data": {
      "image/png": "[encoded data removed]",
      "text/plain": [
       "<Figure size 432x288 with 1 Axes>"
      ]
     },
     "metadata": {
      "needs_background": "light"
     },
     "output_type": "display_data"
    },
    {
     "data": {
      "text/plain": [
       "guess\n",
       "1    88.0\n",
       "2     6.0\n",
       "3     1.0\n",
       "4     1.0\n",
       "5     1.0\n",
       "6     1.0\n",
       "Name: v_space, dtype: float64"
      ]
     },
     "metadata": {},
     "output_type": "display_data"
    },
    {
     "data": {
      "image/png": "[encoded data removed]",
      "text/plain": [
       "<Figure size 432x288 with 1 Axes>"
      ]
     },
     "metadata": {
      "needs_background": "light"
     },
     "output_type": "display_data"
    },
    {
     "name": "stdout",
     "output_type": "stream",
     "text": [
      "loss: 517 7.44%\n",
      "speed: count    2815.000000\n",
      "mean        4.192540\n",
      "std         1.014753\n",
      "min         1.000000\n",
      "25%         4.000000\n",
      "50%         4.000000\n",
      "75%         5.000000\n",
      "max         6.000000\n",
      "Name: guess, dtype: float64\n"
     ]
    },
    {
     "data": {
      "text/plain": [
       "{'word': 'PLANT', 'speed': 4.192539964476022, 'loss': 7.444204463642909}"
      ]
     },
     "execution_count": 155,
     "metadata": {},
     "output_type": "execute_result"
    }
   ],
   "source": [
    "we.evaluate_first_word('plant', plot=True)"
   ]
  },
  {
   "cell_type": "code",
   "execution_count": 110,
   "id": "c2cefaf9",
   "metadata": {},
   "outputs": [
    {
     "data": {
      "text/plain": [
       "1566"
      ]
     },
     "execution_count": 110,
     "metadata": {},
     "output_type": "execute_result"
    }
   ],
   "source": [
    "import seaborn as sb\n",
    "import matplotlib.pyplot as plt\n",
    "import joblib\n",
    "scores = joblib.load(\"candidate_scores.jl\")\n",
    "scores.set_index(\"word\", inplace=True)\n",
    "len(scores)"
   ]
  },
  {
   "cell_type": "code",
   "execution_count": 132,
   "id": "ee2cc1d2",
   "metadata": {},
   "outputs": [
    {
     "name": "stdout",
     "output_type": "stream",
     "text": [
      "speed\n"
     ]
    },
    {
     "data": {
      "text/plain": [
       "word\n",
       "STEAL    4.164561\n",
       "PLATE    4.165631\n",
       "BLAST    4.166062\n",
       "SLATE    4.166103\n",
       "PLANT    4.171735\n",
       "Name: speed, dtype: float64"
      ]
     },
     "metadata": {},
     "output_type": "display_data"
    },
    {
     "data": {
      "image/png": "[encoded data removed]",
      "text/plain": [
       "<Figure size 432x288 with 1 Axes>"
      ]
     },
     "metadata": {
      "needs_background": "light"
     },
     "output_type": "display_data"
    },
    {
     "name": "stdout",
     "output_type": "stream",
     "text": [
      "loss\n"
     ]
    },
    {
     "data": {
      "text/plain": [
       "word\n",
       "SLEPT    7.156228\n",
       "SPLAT    7.271418\n",
       "PLANT    7.372210\n",
       "STOMP    7.372210\n",
       "CLAMP    7.401008\n",
       "Name: loss, dtype: float64"
      ]
     },
     "metadata": {},
     "output_type": "display_data"
    },
    {
     "data": {
      "image/png": "[encoded data removed]",
      "text/plain": [
       "<Figure size 432x288 with 1 Axes>"
      ]
     },
     "metadata": {
      "needs_background": "light"
     },
     "output_type": "display_data"
    },
    {
     "data": {
      "text/plain": [
       "word\n",
       "SLEPT    5.679022\n",
       "SPLAT    5.735638\n",
       "PLANT    5.771973\n",
       "STOMP    5.826201\n",
       "CLAMP    5.835077\n",
       "Name: avg, dtype: float64"
      ]
     },
     "execution_count": 132,
     "metadata": {},
     "output_type": "execute_result"
    }
   ],
   "source": [
    "print('speed')\n",
    "we.display(scores.sort_values('speed')['speed'].head())\n",
    "p = sb.histplot(scores['speed'],binwidth=0.02)\n",
    "p.set(title=\"SPEED for LATER\")\n",
    "plt.axvline(scores.loc['LATER']['speed'], color='red')\n",
    "plt.savefig(\"imgs/speed_later.png\")\n",
    "plt.show()\n",
    "\n",
    "print('loss')\n",
    "we.display(scores.sort_values('loss')['loss'].head())\n",
    "p = sb.histplot(scores['loss'],binwidth=.5)\n",
    "p.set(title=\"Loss for LATER\")\n",
    "plt.axvline(scores.loc['LATER']['loss'], color='red')\n",
    "plt.savefig(\"imgs/loss_later.png\")\n",
    "plt.show()"
   ]
  },
  {
   "cell_type": "code",
   "execution_count": 145,
   "id": "54662451",
   "metadata": {},
   "outputs": [],
   "source": [
    "\n",
    "from sklearn import preprocessing\n",
    "spd = preprocessing.StandardScaler().fit_transform(scores['speed'].values.reshape(-1,1))\n",
    "los = preprocessing.StandardScaler().fit_transform(scores['loss'].values.reshape(-1,1))\n"
   ]
  },
  {
   "cell_type": "code",
   "execution_count": 146,
   "id": "94fd9869",
   "metadata": {},
   "outputs": [],
   "source": [
    "scores['avg'] = (spd + los) / 2"
   ]
  },
  {
   "cell_type": "code",
   "execution_count": 148,
   "id": "f00e6009",
   "metadata": {},
   "outputs": [
    {
     "data": {
      "text/plain": [
       "word\n",
       "PLANT   -2.235442\n",
       "BLAST   -2.105255\n",
       "SLEPT   -2.094277\n",
       "SPLAT   -2.064377\n",
       "SPENT   -1.955415\n",
       "Name: avg, dtype: float64"
      ]
     },
     "execution_count": 148,
     "metadata": {},
     "output_type": "execute_result"
    }
   ],
   "source": [
    "scores.sort_values('avg').head()['avg']"
   ]
  },
  {
   "cell_type": "code",
   "execution_count": 150,
   "id": "b8d17cde",
   "metadata": {},
   "outputs": [
    {
     "data": {
      "text/plain": [
       "<AxesSubplot:xlabel='avg', ylabel='Count'>"
      ]
     },
     "execution_count": 150,
     "metadata": {},
     "output_type": "execute_result"
    },
    {
     "data": {
      "image/png": "[encoded data removed]",
      "text/plain": [
       "<Figure size 432x288 with 1 Axes>"
      ]
     },
     "metadata": {
      "needs_background": "light"
     },
     "output_type": "display_data"
    }
   ],
   "source": [
    "sb.histplot(scores['avg'])"
   ]
  },
  {
   "cell_type": "code",
   "execution_count": null,
   "id": "095831b3",
   "metadata": {},
   "outputs": [],
   "source": []
  }
 ],
 "metadata": {
  "kernelspec": {
   "display_name": "Python 3 (ipykernel)",
   "language": "python",
   "name": "python3"
  },
  "language_info": {
   "codemirror_mode": {
    "name": "ipython",
    "version": 3
   },
   "file_extension": ".py",
   "mimetype": "text/x-python",
   "name": "python",
   "nbconvert_exporter": "python",
   "pygments_lexer": "ipython3",
   "version": "3.8.6"
  },
  "toc": {
   "base_numbering": 1,
   "nav_menu": {},
   "number_sections": true,
   "sideBar": true,
   "skip_h1_title": false,
   "title_cell": "Table of Contents",
   "title_sidebar": "Contents",
   "toc_cell": false,
   "toc_position": {},
   "toc_section_display": true,
   "toc_window_display": false
  }
 },
 "nbformat": 4,
 "nbformat_minor": 5
}
